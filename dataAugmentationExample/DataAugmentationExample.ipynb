{
  "nbformat": 4,
  "nbformat_minor": 0,
  "metadata": {
    "colab": {
      "name": "DataAugmentationExample.ipynb",
      "provenance": [],
      "collapsed_sections": []
    },
    "kernelspec": {
      "name": "python3",
      "display_name": "Python 3"
    }
  },
  "cells": [
    {
      "cell_type": "code",
      "metadata": {
        "id": "Tjp6JMGYChBw"
      },
      "source": [
        "import pandas as pd\n",
        "import os\n",
        "import cv2\n",
        "import matplotlib.pyplot as plt\n",
        "import sys\n",
        "import numpy as np\n",
        "import re\n",
        "import random\n",
        "\n",
        "from skimage import io\n",
        "from skimage import img_as_ubyte\n",
        "from skimage import filters\n",
        "from google.colab.patches import cv2_imshow\n",
        "\n"
      ],
      "execution_count": null,
      "outputs": []
    },
    {
      "cell_type": "code",
      "metadata": {
        "id": "I23rfVOsCs3H"
      },
      "source": [
        "DIR = '/content/drive/My Drive/Colab Notebooks/Dog/dog/' #before using code check path of images"
      ],
      "execution_count": null,
      "outputs": []
    },
    {
      "cell_type": "code",
      "metadata": {
        "id": "nZ9taRuXGlk6"
      },
      "source": [
        "dog_dir = os.listdir(DIR)"
      ],
      "execution_count": null,
      "outputs": []
    },
    {
      "cell_type": "code",
      "metadata": {
        "id": "YtDwn4AeY3VB"
      },
      "source": [
        "def rotation(image):\n",
        "  rows, columns = image.shape\n",
        "  R = cv2.getRotationMatrix2D((columns/2, rows/2), random.randint(-70, 70), 1)\n",
        "  return cv2.warpAffine(gray_image, R, (columns, rows))\n",
        "  "
      ],
      "execution_count": null,
      "outputs": []
    },
    {
      "cell_type": "code",
      "metadata": {
        "id": "lr-dKnGrrwX1"
      },
      "source": [
        "def flip_image(image):\n",
        "  return np.fliplr(image)"
      ],
      "execution_count": null,
      "outputs": []
    },
    {
      "cell_type": "code",
      "metadata": {
        "id": "wgczPfCfr7kq"
      },
      "source": [
        "def image_blur(image):\n",
        "  return filters.gaussian(image, sigma=1)"
      ],
      "execution_count": null,
      "outputs": []
    },
    {
      "cell_type": "code",
      "metadata": {
        "id": "AsLnz3yyt4gM"
      },
      "source": [
        "def zoom_image(image, zoom_factor):\n",
        "  # let len = 100, width = 100, zoom_factor = 1.5\n",
        "  len, width = image.shape[:2]\n",
        "  new_len, new_width = int(len * zoom_factor), int(width * zoom_factor)\n",
        "  # new_len = 150, new_width = 150\n",
        "\n",
        "  #finding center of image after zoom\n",
        "  center_x, center_y = new_len//2, new_width//2 \n",
        "  # center_x = 75, center_y = 75\n",
        "\n",
        "  # finding coordinates of our original size picture \n",
        "  x1, y1 = (center_x - len//2) ,(center_y - width//2) \n",
        "  # x1 = 25, y1 = 25 \n",
        "  x2, y2 = (center_x + len//2), (center_y + width//2)\n",
        "  # x2 = 125, y2 = 125\n",
        "  # y2 - y1 = 100 = len\n",
        "  # x2 - x1 = 100 = width\n",
        "   \n",
        "  box = np.array([x1, y1, x2, y2])\n",
        "  # scaling coordinates to our original picture\n",
        "  box = (box / zoom_factor).astype(np.int) \n",
        "  # box = [16 16 83 83]\n",
        "  # now rezing cropped image to len x width i.e. (100 x 100)\n",
        "  return cv2.resize(image[y1:y2, x1:x2],(len, width))\n",
        "\n",
        "  \n"
      ],
      "execution_count": null,
      "outputs": []
    },
    {
      "cell_type": "code",
      "metadata": {
        "id": "x-rbT7iE9hcf"
      },
      "source": [
        "def shrink_image(image, shrink_factor):\n",
        "\n",
        "  len, width = image.shape[:2]\n",
        "  result_image = np.full((len, width),0, dtype=np.uint8) # empty image with original image size\n",
        "\n",
        "  new_len, new_width = int(len * shrink_factor), int(width * shrink_factor)\n",
        "  img = cv2.resize(image, (new_len, new_width )) # shrink original image\n",
        "  \n",
        "  center_x, center_y = len//2, width//2 \n",
        "  x1, y1 = (center_x - new_len//2), (center_y - new_width//2)\n",
        "  x2, y2 = (center_x + new_len//2), (center_y + new_width//2)\n",
        "  # copying original shrinked image in original size image\n",
        "  if x2-x1 == new_width and y2-y1 == new_len:\n",
        "    result_image[y1:y2, x1:x2] = img\n",
        "  else:\n",
        "    result_image[y1:y2+1, x1:x2+1] = img\n",
        "  return result_image\n",
        "\n"
      ],
      "execution_count": null,
      "outputs": []
    },
    {
      "cell_type": "code",
      "metadata": {
        "id": "LUJY9MypGoUi"
      },
      "source": [
        "count = 0\n",
        "for i, name in enumerate(dog_dir):\n",
        "  #nm = re.split('\\.',name)[0]\n",
        "  label = re.split('_', name)[1] + re.split('_', name)[2]\n",
        "  img = cv2.imread(DIR + name)\n",
        "  img = cv2.resize(img,(100, 100), interpolation=cv2.INTER_CUBIC)# firstly resizing picture\n",
        "  \n",
        "  gray_image = cv2.cvtColor(img, cv2.COLOR_BGR2GRAY) # changing picture into grayscale\n",
        "  \n",
        "  newDirPath = \"/content/drive/My Drive/Colab Notebooks/Dog/new_dog/\"# directory to save\n",
        " \n",
        "  if not os.path.exists(newDirPath):# if dir doesn't exist then create\n",
        "    os.makedirs(newDirPath)\n",
        " \n",
        "  # original image\n",
        "  io.imsave(newDirPath+str(count)+str(random.randint(1,1000))+label, gray_image)# original\n",
        "  count+=1\n",
        "  io.imsave(newDirPath+str(count)+str(random.randint(1,100))+label, shrink_image(gray_image,  random.choice(np.linspace(0.5,0.9,20)))) # random shrink\n",
        "  count+=1\n",
        "  io.imsave(newDirPath+str(count)+str(random.randint(400,600))+label, zoom_image(gray_image,random.choice(np.linspace(1.3,1.5,20)))) # random zoom\n",
        "  count+=1\n",
        "  # 5 rotated images, rotated+zoom, rotated+shrink , total 15 each cycle\n",
        "  for i in range(5):\n",
        "    rotated_image_8bit = img_as_ubyte(rotation(gray_image)) \n",
        "    io.imsave(newDirPath+str(count)+str(random.randint(1,100))+label, cv2.cvtColor(rotated_image_8bit, cv2.COLOR_GRAY2BGR))# random rotate\n",
        "    count += 1\n",
        "    io.imsave(newDirPath+str(count)+str(random.randint(50,300))+label, shrink_image(rotated_image_8bit,  random.choice(np.linspace(0.5,0.9,20)))) # random shrink\n",
        "    count+=1\n",
        "    io.imsave(newDirPath+str(count)+str(random.randint(400,600))+label, zoom_image(rotated_image_8bit,random.choice(np.linspace(1.3,1.5,20)))) # random zoom\n",
        "    count+=1\n",
        "  # flipped image\n",
        "  flipped = img_as_ubyte(flip_image(gray_image))\n",
        "  io.imsave(newDirPath+str(count)+str(random.randint(1,100))+label, flipped)\n",
        "  count+=1\n",
        "  io.imsave(newDirPath+str(count)+str(random.randint(400,600))+label, zoom_image(flipped,random.choice(np.linspace(1.3,1.5,20)))) #  flip + random zoom\n",
        "  count+=1\n",
        "  # blurred image\n",
        "  blurred = img_as_ubyte(image_blur(gray_image))\n",
        "  io.imsave(newDirPath+str(count)+str(random.randint(1,100))+label, blurred)\n",
        "  count+=1\n",
        "  io.imsave(newDirPath+str(count)+str(random.randint(400,600))+label, zoom_image(blurred,random.choice(np.linspace(1.3,1.5,20)))) # blur + random zoom\n",
        "  count+=1\n",
        "  "
      ],
      "execution_count": null,
      "outputs": []
    }
  ]
}